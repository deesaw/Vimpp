{
 "cells": [
  {
   "cell_type": "markdown",
   "metadata": {},
   "source": [
    "### Defining Class"
   ]
  },
  {
   "cell_type": "code",
   "execution_count": null,
   "metadata": {},
   "outputs": [],
   "source": [
    "class Prez(object):                                          #class\n",
    "    pass\n",
    "\n",
    "putin = Prez()\n",
    "\n",
    "print(type(putin))\n",
    "print(isinstance(putin,Prez))"
   ]
  },
  {
   "cell_type": "markdown",
   "metadata": {},
   "source": [
    "### Methods & Attributes"
   ]
  },
  {
   "cell_type": "code",
   "execution_count": null,
   "metadata": {},
   "outputs": [],
   "source": [
    "class Prez(object):\n",
    "    def __init__(self,nationality,gender):\n",
    "        self.nationality = nationality\n",
    "        self.gender = gender\n",
    "    def rule(self):                                #mandatory to pass 'self' as argument\n",
    "        print (\"Making my country great again!\")\n",
    "    def speak(self):\n",
    "        print (\"I am on duty\")\n",
    "\n",
    "putin = Prez(\"Russian\", \"Male\")\n",
    "\n",
    "putin.rule()\n",
    "putin.speak()\n",
    "\n",
    "print (putin.nationality)\n",
    "print (putin.gender)"
   ]
  },
  {
   "cell_type": "markdown",
   "metadata": {},
   "source": [
    "### Class Variable"
   ]
  },
  {
   "cell_type": "code",
   "execution_count": null,
   "metadata": {},
   "outputs": [],
   "source": [
    "class Employee:\n",
    "    counter = 0\n",
    "    def __init__(self,eid,name,mobile):\n",
    "        self.eid=eid\n",
    "        self.name=name\n",
    "        self.mobile=mobile\n",
    "        Employee.counter+=1\n",
    "    def get_mobile(self):\n",
    "        print(self.mobile)\n",
    "    def set_mobile(self,mobile):\n",
    "        self.mobile=mobile\n",
    "\n",
    "print(Employee.counter)\n",
    "ramesh=Employee(223,\"Ramesh Sannareddy\",\"9885970033\")\n",
    "ramesh.get_mobile()\n",
    "ramesh.set_mobile(\"7653478654\")\n",
    "ramesh.get_mobile()\n",
    "print(Employee.counter)\n",
    "trump=Employee(234,\"Donald Trump\",\"911\")\n",
    "\n",
    "print(Employee.counter)"
   ]
  },
  {
   "cell_type": "markdown",
   "metadata": {},
   "source": [
    "### Class Methods & Private Variables"
   ]
  },
  {
   "cell_type": "code",
   "execution_count": null,
   "metadata": {},
   "outputs": [],
   "source": [
    "class Employee:\n",
    "    _counter = 0                                  #private variable\n",
    "    def __init__(self,eid,name,mobile):\n",
    "        self.eid=eid\n",
    "        self.name=name\n",
    "        self.mobile=mobile\n",
    "        Employee._counter+=1\n",
    "    def get_mobile(self):\n",
    "        print(self.mobile)\n",
    "    def set_mobile(self,mobile):\n",
    "        self.mobile=mobile\n",
    "    @classmethod\n",
    "    def get_emp_count(cls):\n",
    "        print(cls._counter)\n",
    "\n",
    "\n",
    "Employee.get_emp_count()\n",
    "ramesh=Employee(223,\"Ramesh Sannareddy\",\"9885970033\")\n",
    "ramesh.get_mobile()\n",
    "ramesh.set_mobile(\"7653478654\")\n",
    "ramesh.get_mobile()\n",
    "ramesh.get_emp_count()\n",
    "trump=Employee(234,\"Donald Trump\",\"911\")\n",
    "trump.get_emp_count()\n",
    "Employee.get_emp_count()"
   ]
  },
  {
   "cell_type": "markdown",
   "metadata": {},
   "source": [
    "### Inheritance"
   ]
  },
  {
   "cell_type": "code",
   "execution_count": null,
   "metadata": {},
   "outputs": [],
   "source": [
    "class Employee:\n",
    "    counter = 0\n",
    "    def __init__(self,eid,name,mobile):\n",
    "        self.eid=eid\n",
    "        self.name=name\n",
    "        self.mobile=mobile\n",
    "        Employee.counter+=1\n",
    "    def get_mobile(self):\n",
    "        print(self.mobile)\n",
    "    def set_mobile(self,mobile):\n",
    "        self.mobile=mobile\n",
    "    def get_salary(self,days):\n",
    "        print(days * 1000)\n",
    "print(Employee.counter)\n",
    "ramesh=Employee(223,\"Ramesh Sannareddy\",\"9885970033\")\n",
    "ramesh.get_salary(21)\n",
    "print(Employee.counter)\n",
    "\n",
    "class Trainee(Employee):                                    #inheritance\n",
    "    def get_salary(self,days):\n",
    "        print(days * 100)\n",
    "    def get_emp_salary(self,days):\n",
    "        super().get_salary(days)\n",
    "trump=Trainee(234,\"Donald Trump\",\"911\")\t\n",
    "\n",
    "trump.get_mobile()\n",
    "trump.get_salary(21)\n",
    "trump.get_emp_salary(21)"
   ]
  },
  {
   "cell_type": "markdown",
   "metadata": {},
   "source": [
    "### Super"
   ]
  },
  {
   "cell_type": "code",
   "execution_count": null,
   "metadata": {},
   "outputs": [],
   "source": [
    "class Bird(object):                         #parent class\n",
    "    def __init__(self):\n",
    "        print (\"Bird is ready\")\n",
    "    def whoIsThis(self):\n",
    "        print (\"Bird\")\n",
    "    def swim(self):\n",
    "        print (\"Swim faster\")\n",
    "\n",
    "class Penguin(Bird):                        #child class\n",
    "    def __init__(self):\n",
    "\n",
    "        print (\"Penguin is ready\")\n",
    "    def whoIsThis(self):\n",
    "        print (\"Penguin\")\n",
    "    def run(self):\n",
    "        print (\"Run faster\")\n",
    "    def parentwhoIsThis(self):\n",
    "        super(Penguin,self).whoIsThis()     #refers only from parent class\n",
    "\n",
    "peggy = Penguin()\n",
    "peggy.whoIsThis()\n",
    "peggy.swim()\n",
    "peggy.run()\n",
    "peggy.parentwhoIsThis()"
   ]
  }
 ],
 "metadata": {
  "kernelspec": {
   "display_name": "Python 3",
   "language": "python",
   "name": "python3"
  },
  "language_info": {
   "codemirror_mode": {
    "name": "ipython",
    "version": 3
   },
   "file_extension": ".py",
   "mimetype": "text/x-python",
   "name": "python",
   "nbconvert_exporter": "python",
   "pygments_lexer": "ipython3",
   "version": "3.6.5"
  }
 },
 "nbformat": 4,
 "nbformat_minor": 2
}
