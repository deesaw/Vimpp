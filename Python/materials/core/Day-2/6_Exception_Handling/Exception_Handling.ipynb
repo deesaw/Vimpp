{
 "cells": [
  {
   "cell_type": "markdown",
   "metadata": {},
   "source": [
    "### Try-Except"
   ]
  },
  {
   "cell_type": "code",
   "execution_count": null,
   "metadata": {},
   "outputs": [],
   "source": [
    "while True:\n",
    "    try:\n",
    "        x = int(input(\"Please enter a number: \"))\n",
    "        break\n",
    "    except ValueError:                                                   #ValueError is a built-in exception\n",
    "        print (\"Oops! That wasn't a valid number. Try again: \")"
   ]
  },
  {
   "cell_type": "code",
   "execution_count": null,
   "metadata": {},
   "outputs": [],
   "source": [
    "while True:\n",
    "    try:\n",
    "        x = int(input(\"Please enter a number: \"))\n",
    "        break\n",
    "    except ValueError as err:                                            #Examine what 'err' returns\n",
    "        \n",
    "        print(\"Not a valid Input:\\nThe system reported error is : \",err)"
   ]
  },
  {
   "cell_type": "code",
   "execution_count": null,
   "metadata": {},
   "outputs": [],
   "source": [
    "print (2/0)                                                              #Examine the error"
   ]
  },
  {
   "cell_type": "markdown",
   "metadata": {},
   "source": [
    "### Try-Except-Finally"
   ]
  },
  {
   "cell_type": "code",
   "execution_count": null,
   "metadata": {},
   "outputs": [],
   "source": [
    "import sys\n",
    "\n",
    "f = 'lumos'                         #dummy value for 'f'\n",
    "#while True:\n",
    "try:\n",
    "    fin = input(\"Enter a file to be opened: \")\n",
    "    f = open (fin, 'r')             #try 'a' mode or 'w' mode\n",
    "                                    #now 'f' points to 'fin' not 'lumos' anymore\n",
    "        \n",
    "except FileNotFoundError:\n",
    "    print (\"File does not exists. Try entering a valid file\")\n",
    "except PermissionError:\n",
    "    print (\"Please check access\")\n",
    "else:\n",
    "    print (f.read())                #Reading opened file\n",
    "finally:\n",
    "    print (\"Executing 'finally' block\")\n",
    "    if f != 'lumos':                #to close the file in eitherway\n",
    "        print (\"Closing the file\")\n",
    "        f.close()"
   ]
  },
  {
   "cell_type": "markdown",
   "metadata": {},
   "source": [
    "### Custom Exceptions"
   ]
  },
  {
   "cell_type": "code",
   "execution_count": null,
   "metadata": {},
   "outputs": [],
   "source": [
    "class MyError(Exception):\n",
    "    def __init__(self, value):\n",
    "        self.value = value\n",
    "    def __str__(self):            # __str__ allows args to be printed directly, but may be overridden in exception subclasses\n",
    "        return repr(self.value)\n",
    "\n",
    "try:\n",
    "    raise MyError('Testing my Custom Exception')\n",
    "except MyError as e:\n",
    "    print ('My exception occurred, value:', e.value)"
   ]
  },
  {
   "cell_type": "code",
   "execution_count": null,
   "metadata": {},
   "outputs": [],
   "source": [
    "try:\n",
    "   raise Exception('myExcetionType', 'myArgument')\n",
    "except Exception as inst:\n",
    "   print(type(inst))    # the exception instance\n",
    "   print(inst.args)     # arguments stored in .args\n",
    "   print(inst)          # __str__ allows args to be printed directly,\n",
    "                        # but may be overridden in exception subclasses\n",
    "   x, y = inst.args     # unpack args\n",
    "   print('x =', x)\n",
    "   print('y =', y)"
   ]
  },
  {
   "cell_type": "code",
   "execution_count": null,
   "metadata": {},
   "outputs": [],
   "source": [
    "import random\n",
    "overheat = Exception('OverHeatWarning','Please Check Water in the Radiator')\n",
    "\n",
    "print (type(overheat))\n",
    "   \n",
    "def gettemp():\n",
    "    return random.randint(1,100)          #Generating pseudo temperature\n",
    "   \n",
    "while True:\n",
    "    currenttemp=gettemp()\n",
    "    if currenttemp<90:\n",
    "        print (\"Keep Driving\",currenttemp)\n",
    "    else:\n",
    "        raise overheat"
   ]
  },
  {
   "cell_type": "markdown",
   "metadata": {},
   "source": [
    "### Asserts"
   ]
  },
  {
   "cell_type": "code",
   "execution_count": null,
   "metadata": {},
   "outputs": [],
   "source": [
    "list_ = [\"a\",\"b\",\"x\"]\n",
    "assert \"x\" in list_, \"x is not in the list\"\n",
    "print(\"Passed, O.K.\")                                  #prints passed\n",
    "\n",
    "list_ = [\"a\",\"b\",\"c\"]\n",
    "assert \"x\" in list_, \"x is not in the list\"\n",
    "print(\"passed\")                                        #throws Assertion"
   ]
  }
 ],
 "metadata": {
  "kernelspec": {
   "display_name": "Python 3",
   "language": "python",
   "name": "python3"
  },
  "language_info": {
   "codemirror_mode": {
    "name": "ipython",
    "version": 3
   },
   "file_extension": ".py",
   "mimetype": "text/x-python",
   "name": "python",
   "nbconvert_exporter": "python",
   "pygments_lexer": "ipython3",
   "version": "3.6.5"
  }
 },
 "nbformat": 4,
 "nbformat_minor": 2
}
